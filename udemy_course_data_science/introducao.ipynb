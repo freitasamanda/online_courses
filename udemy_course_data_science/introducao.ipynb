{
 "cells": [
  {
   "cell_type": "markdown",
   "metadata": {},
   "source": [
    "# Introdução ao Python\n",
    "variáveis - string, integer, float, boolean\n",
    "\n",
    "o tipo de variável é declarado implicitamente "
   ]
  },
  {
   "cell_type": "code",
   "execution_count": 42,
   "metadata": {},
   "outputs": [
    {
     "name": "stdout",
     "output_type": "stream",
     "text": [
      "suas variáveis são:\n",
      "Python False 2 2.5\n",
      "<class 'int'>\n"
     ]
    }
   ],
   "source": [
    "# declarando variáveis, exibindo e verificiando o tipo\n",
    "x = \"Python\"\n",
    "y = False\n",
    "z = 2\n",
    "w = 2.5\n",
    "\n",
    "print(\"suas variáveis são:\")\n",
    "print(x, y, z, w)\n",
    "\n",
    "print(type(z))"
   ]
  },
  {
   "cell_type": "code",
   "execution_count": null,
   "metadata": {},
   "outputs": [],
   "source": [
    "# Usuário entrando valores\n",
    "\n",
    "seu_valor = input(\"Informe um valor\")\n",
    "\n",
    "print(\"Seu valor é\")\n",
    "print(seu_valor)"
   ]
  },
  {
   "cell_type": "code",
   "execution_count": 6,
   "metadata": {},
   "outputs": [
    {
     "name": "stdout",
     "output_type": "stream",
     "text": [
      "o tipo de a é:\n"
     ]
    },
    {
     "data": {
      "text/plain": [
       "str"
      ]
     },
     "execution_count": 6,
     "metadata": {},
     "output_type": "execute_result"
    }
   ],
   "source": [
    "# Transformando variáveis:\n",
    "a = str(10)\n",
    "print(\"o tipo de a é:\")\n",
    "type(a)"
   ]
  },
  {
   "cell_type": "markdown",
   "metadata": {},
   "source": [
    "## Estruturas de decisão\n",
    "input de nota, sofre uma avaliação lógica, caso seja maior igual a 7, aluno aprovado.\n",
    "\n",
    "Se nota >=7 então aprovado\n",
    "se não, reprovado\n",
    "\n",
    "if ():\n",
    "    // código\n",
    "    // executa se verdadeiro\n",
    "elif ():\n",
    "    // código\n",
    "else:\n",
    "    // código\n",
    "    // executa se falso"
   ]
  },
  {
   "cell_type": "code",
   "execution_count": 11,
   "metadata": {},
   "outputs": [
    {
     "name": "stdout",
     "output_type": "stream",
     "text": [
      "Reprovado\n"
     ]
    }
   ],
   "source": [
    "nota = float(input(\"insira a nota:\"))\n",
    "\n",
    "if nota >= 7:\n",
    "    print(\"Aprovado\")\n",
    "elif nota>=5:\n",
    "    print(\"Recuperação\")\n",
    "else:\n",
    "    print(\"Reprovado\")"
   ]
  },
  {
   "cell_type": "code",
   "execution_count": 15,
   "metadata": {},
   "outputs": [
    {
     "name": "stdout",
     "output_type": "stream",
     "text": [
      "Reprovado\n"
     ]
    }
   ],
   "source": [
    "# diferença entre and e or\n",
    "# com o and as duas condições tem que ser true\n",
    "\n",
    "nota = float(input(\"insira a nota:\"))\n",
    "frequencia = float(input(\"insira a frequencia:\"))\n",
    "\n",
    "if nota >= 7 and frequencia > 70:\n",
    "    print(\"Aprovado\")\n",
    "else:\n",
    "    print(\"Reprovado\")"
   ]
  },
  {
   "cell_type": "code",
   "execution_count": 17,
   "metadata": {},
   "outputs": [
    {
     "name": "stdout",
     "output_type": "stream",
     "text": [
      "Aprovado\n"
     ]
    }
   ],
   "source": [
    "# diferença entre and e or\n",
    "\n",
    "nota = float(input(\"insira a nota:\"))\n",
    "frequencia = float(input(\"insira a frequencia:\"))\n",
    "\n",
    "if nota >= 7 or frequencia > 70:\n",
    "    print(\"Aprovado\")\n",
    "else:\n",
    "    print(\"Reprovado\")"
   ]
  },
  {
   "cell_type": "markdown",
   "metadata": {},
   "source": [
    "## Estruturas de repetição\n",
    "entre o salário dos 5 funcionários\n",
    "\n",
    "funcionario_01 = float(input(\"insira o salário do funcionário:\"))\n",
    "\n",
    "você nao vai digitar isso 5 vezes, você cria uma estrutura de repetição:\n",
    "\n",
    "Entre a quantidade de funcionários e em seguida o salário de cada um deles\n",
    "\n",
    "\n",
    "WHILE\n",
    "executa enquanto uma condição for verdadeira (Exemplo, quer informar mais um funcionário? se digitar sim, ele continua o loop)\n",
    "\n",
    "FOR\n",
    "executa um número n de vezes\n",
    "range(início, parada, incremento)\n"
   ]
  },
  {
   "cell_type": "code",
   "execution_count": 18,
   "metadata": {},
   "outputs": [
    {
     "name": "stdout",
     "output_type": "stream",
     "text": [
      "1\n",
      "2\n",
      "3\n",
      "4\n",
      "5\n"
     ]
    }
   ],
   "source": [
    "n = 1\n",
    "\n",
    "while n <= 5:\n",
    "    print(n)\n",
    "    n += 1"
   ]
  },
  {
   "cell_type": "code",
   "execution_count": null,
   "metadata": {},
   "outputs": [],
   "source": [
    "for n in range(0, 10):\n",
    "    if n==4:\n",
    "        break\n",
    "    print(n)"
   ]
  },
  {
   "cell_type": "code",
   "execution_count": 22,
   "metadata": {},
   "outputs": [
    {
     "data": {
      "text/plain": [
       "5"
      ]
     },
     "execution_count": 22,
     "metadata": {},
     "output_type": "execute_result"
    }
   ],
   "source": [
    "#listas\n",
    "lista_01 = [1,2,3,4,5]\n",
    "lista_02 = [1,2.5, \"Oi\", True]\n",
    "lista_03 = list(range(0,10))\n",
    "lista_04 = [1,2,3,[5,6,7], \"Oi\"]\n",
    "\n",
    "len(lista_01)"
   ]
  },
  {
   "cell_type": "markdown",
   "metadata": {},
   "source": [
    "## Dicionários\n",
    "conjunto de chave/valor associados, estrutura similar ao json\n",
    "\n",
    "## Sets\n",
    "conjuntos não ordenados e não repetidos\n",
    "\n",
    "## tuplas\n",
    "listas que não podem ser alteradas"
   ]
  },
  {
   "cell_type": "code",
   "execution_count": 23,
   "metadata": {},
   "outputs": [],
   "source": [
    "#dicionarios\n",
    "precos = {'lapis': 5.5,\n",
    "          'borraca': 7.0}\n",
    "\n",
    "#sets\n",
    "animais = {'gato', 'cachorro'}\n",
    "\n",
    "#tuplas\n",
    "tupla_01 = (1,2,3,4,5)"
   ]
  },
  {
   "cell_type": "code",
   "execution_count": 46,
   "metadata": {},
   "outputs": [
    {
     "name": "stdout",
     "output_type": "stream",
     "text": [
      "True\n",
      "False\n",
      "{'borraca': 7.0}\n"
     ]
    }
   ],
   "source": [
    "precos.keys()\n",
    "precos.values()\n",
    "\n",
    "#Testa logicamente a existência\n",
    "print('lapis' in precos)\n",
    "print('livro' in precos)\n",
    "\n",
    "#apaga um elemento\n",
    "del precos['lapis']\n",
    "print(precos)"
   ]
  },
  {
   "cell_type": "code",
   "execution_count": 47,
   "metadata": {},
   "outputs": [
    {
     "name": "stdout",
     "output_type": "stream",
     "text": [
      "{'borraca': 7.0, 'livros': 9}\n"
     ]
    }
   ],
   "source": [
    "#inclui um elemento\n",
    "precos['livros'] = 9\n",
    "print(precos)"
   ]
  },
  {
   "cell_type": "markdown",
   "metadata": {},
   "source": [
    "## Numpy\n",
    "os elementos em uma matriz NumPy devem ser todos do mesmo tipo de dados, e portanto terão o mesmo tamanho na memória. Pacote que ajuda a lidar com matrizes. Os arrays NumPy têm um tamanho fixo."
   ]
  },
  {
   "cell_type": "code",
   "execution_count": 24,
   "metadata": {},
   "outputs": [
    {
     "name": "stdout",
     "output_type": "stream",
     "text": [
      "[12 34 26 18 10]\n",
      "int32\n"
     ]
    }
   ],
   "source": [
    "import numpy as np\n",
    "\n",
    "a = np.array([12, 34, 26, 18, 10])\n",
    "print(a)\n",
    "print(a.dtype)"
   ]
  },
  {
   "cell_type": "code",
   "execution_count": null,
   "metadata": {},
   "outputs": [],
   "source": []
  },
  {
   "cell_type": "markdown",
   "metadata": {},
   "source": [
    "## Pandas\n",
    "Pacote para lidar com data frames. "
   ]
  },
  {
   "cell_type": "code",
   "execution_count": null,
   "metadata": {},
   "outputs": [],
   "source": [
    "import pandas as pd\n",
    "dados = pd.read_csv('base.csv')"
   ]
  },
  {
   "cell_type": "markdown",
   "metadata": {},
   "source": [
    "## Módulos e pacotes\n",
    "\n",
    "geralmente colocamos apelidos para o módulo\n",
    "\n",
    "import statistics as est\n",
    "\n",
    "x = est.mean(z)\n",
    "\n",
    "a hierarquia de módulos e funções é definida pelo ponto\n",
    "\n",
    "para instalar abra o cmd e digite\n",
    "\n",
    "pip install pacote"
   ]
  },
  {
   "cell_type": "markdown",
   "metadata": {},
   "source": [
    "## Funções\n",
    "Blocos reutilizáveis de código"
   ]
  },
  {
   "cell_type": "code",
   "execution_count": null,
   "metadata": {},
   "outputs": [],
   "source": [
    "# como criar uma função\n",
    "\n",
    "def imprime():\n",
    "    print(\"esta é uma função\")\n",
    "\n",
    "imprime()\n",
    "\n",
    "\n",
    "# exemplo com parametro\n",
    "def imprime(n):\n",
    "    print(n)\n",
    "\n",
    "imprime(\"Impressão deste texto\")\n",
    "\n",
    "# exemplo com retorno\n",
    "def potencia (b):\n",
    "    return b * b\n",
    "\n",
    "print(potencia(3))\n",
    "\n",
    "# exemplo com valor default\n",
    "def intervalo (inic=1, fim=10):\n",
    "    for inic in range (1, fim+1):\n",
    "        print(inic)\n",
    "\n",
    "intervalo(1,10)"
   ]
  },
  {
   "cell_type": "markdown",
   "metadata": {},
   "source": [
    "## atividades!\n",
    "\n",
    "1. Faça um programa que tenha uma função chamada amplitude. A função deve receber uma lista e imprimir a amplitude. Crie também um código para testar sua função.\n",
    "\n",
    "2. Faça uma função que receba uma string e imprima esta string na forma vertical, por exemplo se receber python deve imprimir:\n",
    "\n",
    "p\n",
    "\n",
    "y\n",
    "\n",
    "t\n",
    "\n",
    "h\n",
    "\n",
    "o\n",
    "\n",
    "n\n",
    "\n",
    "Dica: uma string do python funciona como uma lista. Crie também um código para testar sua função.\n",
    "\n",
    "3. Crie um programa que leia o peso de uma carga em números inteiros. Se o peso for até 10kg, informe que o valor será de 50 reais. Entre 11 e 20kg, informe que o valor será de 80 reais. Se for maior que 20 informe que o transporte não é aceito.\n"
   ]
  },
  {
   "cell_type": "code",
   "execution_count": 41,
   "metadata": {},
   "outputs": [
    {
     "name": "stdout",
     "output_type": "stream",
     "text": [
      "O valor será de 50 reais\n"
     ]
    }
   ],
   "source": [
    "# exercício 3\n",
    "\n",
    "peso = int(input(\"Insira o peso da carga:\"))\n",
    "\n",
    "if peso <= 10:\n",
    "    print(\"O valor será de 50 reais\")\n",
    "elif peso <=20:\n",
    "    print(\"O valor será de 80 reais\")\n",
    "elif peso >20:\n",
    "    print (\"O transporte não é aceito\")"
   ]
  }
 ],
 "metadata": {
  "kernelspec": {
   "display_name": "Python 3",
   "language": "python",
   "name": "python3"
  },
  "language_info": {
   "codemirror_mode": {
    "name": "ipython",
    "version": 3
   },
   "file_extension": ".py",
   "mimetype": "text/x-python",
   "name": "python",
   "nbconvert_exporter": "python",
   "pygments_lexer": "ipython3",
   "version": "3.12.0"
  }
 },
 "nbformat": 4,
 "nbformat_minor": 2
}
